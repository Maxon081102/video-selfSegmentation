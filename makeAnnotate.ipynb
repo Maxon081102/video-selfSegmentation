{
 "cells": [
  {
   "cell_type": "code",
   "execution_count": null,
   "id": "0a156348",
   "metadata": {},
   "outputs": [],
   "source": [
    "import os\n",
    "import cv2\n",
    "import torch\n",
    "import supervision as sv\n",
    "\n",
    "from segment_anything import sam_model_registry\n",
    "from segment_anything import SamAutomaticMaskGenerator\n",
    "\n",
    "from createImgAnnotate import generate_annotate"
   ]
  },
  {
   "cell_type": "code",
   "execution_count": null,
   "id": "28db47c5",
   "metadata": {},
   "outputs": [],
   "source": [
    "device = torch.device('cuda:0' if torch.cuda.is_available() else 'cpu')\n",
    "model_type = \"vit_h\""
   ]
  },
  {
   "cell_type": "code",
   "execution_count": null,
   "id": "167ef196",
   "metadata": {},
   "outputs": [],
   "source": [
    "sam = sam_model_registry[model_type](checkpoint=\"sam_vit_h_4b8939.pth\")\n",
    "sam.to(device)"
   ]
  },
  {
   "cell_type": "code",
   "execution_count": null,
   "id": "3e992a5e",
   "metadata": {},
   "outputs": [],
   "source": [
    "mask_generator = SamAutomaticMaskGenerator(sam)"
   ]
  },
  {
   "cell_type": "code",
   "execution_count": null,
   "id": "3fb9f09c",
   "metadata": {},
   "outputs": [],
   "source": [
    "mask_annotator = sv.MaskAnnotator()\n",
    "detector = sv.Detections"
   ]
  },
  {
   "cell_type": "code",
   "execution_count": null,
   "id": "40db7af8",
   "metadata": {},
   "outputs": [],
   "source": [
    "data_folder = \"data\"\n",
    "for img_name in os.listdir(data_folder + \"/X\"):\n",
    "        if os.path.isfile(data_folder + \"/Y/\" + img_name.replace(\"X\", \"Y\")):\n",
    "            img_annotate = generate_annotate(img_name, mask_generator, mask_annotator, detector)\n",
    "            cv2.imwrite(data_folder + \"/Z/\" + img_name, img_annotate)"
   ]
  }
 ],
 "metadata": {
  "kernelspec": {
   "display_name": "Python 3 (ipykernel)",
   "language": "python",
   "name": "python3"
  },
  "language_info": {
   "codemirror_mode": {
    "name": "ipython",
    "version": 3
   },
   "file_extension": ".py",
   "mimetype": "text/x-python",
   "name": "python",
   "nbconvert_exporter": "python",
   "pygments_lexer": "ipython3",
   "version": "3.9.12"
  }
 },
 "nbformat": 4,
 "nbformat_minor": 5
}
